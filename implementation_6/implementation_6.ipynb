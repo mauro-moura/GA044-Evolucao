{
 "cells": [
  {
   "cell_type": "code",
   "execution_count": 1,
   "metadata": {},
   "outputs": [],
   "source": [
    "import sys\n",
    "\n",
    "ROOT_DIR = '..'\n",
    "sys.path.append(ROOT_DIR)"
   ]
  },
  {
   "cell_type": "code",
   "execution_count": 2,
   "metadata": {},
   "outputs": [],
   "source": [
    "import time\n",
    "\n",
    "import numpy as np\n",
    "import matplotlib.pyplot as plt"
   ]
  },
  {
   "cell_type": "code",
   "execution_count": null,
   "metadata": {},
   "outputs": [],
   "source": [
    "from utils.evolution_functions import next_finite_drift_generation\n",
    "from utils import selection_experiments as selection"
   ]
  },
  {
   "cell_type": "code",
   "execution_count": null,
   "metadata": {},
   "outputs": [],
   "source": [
    "from utils.evolution_functions import generate_random_samples\n",
    "from utils.statistic_utils import run_chi_squared_test\n",
    "\n",
    "def run_exp(p0_list, q0_list, pop_size_list, n_loci, t, u=0, v=0, n=1):\n",
    "    # Seleção Natural Primeiro\n",
    "    # Na hora da cópia mutação\n",
    "    # Migração riscada porque mutação bidirecional tem mesmo efeito da mutação bidimensional\n",
    "    # Testar vários valores para observar taxas\n",
    "    # \n",
    "    wAA = 1\n",
    "    wAa = 0.9\n",
    "    waa = 1\n",
    "    ehw_gens = {}\n",
    "    extinctions_gens = {}\n",
    "    for p0, q0 in zip(p0_list, q0_list):\n",
    "        for pop_size in pop_size_list:\n",
    "            p_t_list = []\n",
    "            q_t_list = []\n",
    "            p2_t_list = []\n",
    "            q2_t_list = []\n",
    "            pq_t_list = []\n",
    "            chi_squared_list = []\n",
    "            population = np.array([\"AA\"] * int(p0 * p0 * pop_size) + [\"aa\"] * int(q0 * q0 * pop_size) + [\"Aa\"] * int(2 * p0 * q0 * pop_size))\n",
    "            for pop in range(n_loci):\n",
    "                p_t = np.zeros(t.shape)\n",
    "                q_t = np.zeros(t.shape)\n",
    "                chi_squared = np.zeros(t.shape[0] - 1)\n",
    "                p_t[0] = p0\n",
    "                q_t[0] = q0\n",
    "                expected = generate_random_samples(p0, q0, pop_size)\n",
    "                dict_key = f\"N_pop={pop}, Pop_Size={pop_size} Pop={p0:.4f}x{q0:.4f}\"\n",
    "                for i in range(1, t.shape[0]):\n",
    "                    # Instead of generating a population based on the p, q\n",
    "                    # Generate p, q based on the population list\n",
    "                    # \n",
    "                    selection.next_finite_gen(population, wAA, wAa, waa, pop_size)\n",
    "                    p, q, population = next_finite_drift_generation(population, u, v, pop_size, seed=int(time.time()))\n",
    "                    p_t[i] = p\n",
    "                    q_t[i] = q\n",
    "\n",
    "                    # Avaliar extinção\n",
    "                    if p == 0 or q == 0 and not extinctions_gens.get(dict_key, None):\n",
    "                        print(f\"Extinction in gen {i}\")\n",
    "                        extinctions_gens[dict_key] = i\n",
    "                    \n",
    "                    # Valor de variância máxima -> Deriva máxima\n",
    "\n",
    "                    observed = generate_random_samples(p, q, pop_size)\n",
    "                    chi_2, is_correlated = run_chi_squared_test(observed, expected, n)\n",
    "                    if not is_correlated and not ehw_gens.get(dict_key, None):\n",
    "                        print(f\"Not in EHW in gen {i}\")\n",
    "                        ehw_gens[dict_key] = i\n",
    "                    \n",
    "                    chi_squared[i - 1] = chi_2\n",
    "\n",
    "                p_t_list.append(p_t)\n",
    "                q_t_list.append(q_t)\n",
    "\n",
    "                p2_t_list.append(p_t ** 2)\n",
    "                q2_t_list.append(q_t ** 2)\n",
    "                pq_t_list.append(2 * p_t * q_t)\n",
    "                chi_squared_list.append(chi_squared)\n",
    "\n",
    "                # Avaliar pontos de equilíbrio\n",
    "                # plt.plot(t, p, label='Locus %d'%i)\n",
    "            \n",
    "            fig = plt.figure()\n",
    "            ax = plt.subplot(111)\n",
    "\n",
    "            for i, p in enumerate(p_t_list):\n",
    "                ax.plot(t, p, label=f'p_{i+1}')\n",
    "\n",
    "            # Shrink current axis by 20%\n",
    "            box = ax.get_position()\n",
    "            ax.set_position([box.x0, box.y0, box.width * 0.8, box.height])\n",
    "\n",
    "            # Put a legend to the right of the current axis\n",
    "            ax.legend(loc='center left', bbox_to_anchor=(1, 0.5))\n",
    "            ax.title.set_text(f'Pop size: {pop_size}')\n",
    "            plt.show()\n",
    "\n",
    "            # plt.plot(t, p2_t_list, label='p²')\n",
    "            # plt.plot(t, q2_t_list, label='q²')\n",
    "            # plt.plot(t, pq_t_list, label='2pq')\n",
    "\n",
    "            # plt.legend()\n",
    "            # plt.show()\n",
    "\n",
    "    if ehw_gens:\n",
    "        for key, value in ehw_gens.items():\n",
    "            print(f\"End of EHW ({key}) Gen = {value}\")"
   ]
  },
  {
   "cell_type": "code",
   "execution_count": null,
   "metadata": {},
   "outputs": [],
   "source": [
    "\n",
    "run_exp([0.5], [0.5], [100], 1, np.arange(1000), u=0.0001, v=0.0001, n=1000)"
   ]
  }
 ],
 "metadata": {
  "kernelspec": {
   "display_name": "arima",
   "language": "python",
   "name": "python3"
  },
  "language_info": {
   "codemirror_mode": {
    "name": "ipython",
    "version": 3
   },
   "file_extension": ".py",
   "mimetype": "text/x-python",
   "name": "python",
   "nbconvert_exporter": "python",
   "pygments_lexer": "ipython3",
   "version": "3.9.19"
  }
 },
 "nbformat": 4,
 "nbformat_minor": 2
}
