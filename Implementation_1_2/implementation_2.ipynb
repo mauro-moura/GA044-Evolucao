{
 "cells": [
  {
   "cell_type": "code",
   "execution_count": 1,
   "metadata": {},
   "outputs": [],
   "source": [
    "import numpy as np\n",
    "import matplotlib.pyplot as plt"
   ]
  },
  {
   "cell_type": "code",
   "execution_count": 2,
   "metadata": {},
   "outputs": [],
   "source": [
    "from utils.evolution_functions import next_generation, plot_n_pt, plot_pt_qt, plot_n_pt_qt"
   ]
  },
  {
   "cell_type": "code",
   "execution_count": 1,
   "metadata": {},
   "outputs": [
    {
     "ename": "NameError",
     "evalue": "name 'np' is not defined",
     "output_type": "error",
     "traceback": [
      "\u001b[0;31m---------------------------------------------------------------------------\u001b[0m",
      "\u001b[0;31mNameError\u001b[0m                                 Traceback (most recent call last)",
      "Cell \u001b[0;32mIn[1], line 10\u001b[0m\n\u001b[1;32m      7\u001b[0m v \u001b[38;5;241m=\u001b[39m \u001b[38;5;241m0\u001b[39m\n\u001b[1;32m      8\u001b[0m \u001b[38;5;66;03m# p0 = 1e6\u001b[39;00m\n\u001b[1;32m      9\u001b[0m \u001b[38;5;66;03m# q0 = 1e4\u001b[39;00m\n\u001b[0;32m---> 10\u001b[0m t \u001b[38;5;241m=\u001b[39m \u001b[43mnp\u001b[49m\u001b[38;5;241m.\u001b[39marange(\u001b[38;5;241m100000\u001b[39m)\n\u001b[1;32m     12\u001b[0m p_t_list \u001b[38;5;241m=\u001b[39m []\n\u001b[1;32m     13\u001b[0m q_t_list \u001b[38;5;241m=\u001b[39m []\n",
      "\u001b[0;31mNameError\u001b[0m: name 'np' is not defined"
     ]
    }
   ],
   "source": [
    "u_list = [1e-4, 1e-3, 1e-2, 1e-1]\n",
    "v_list = [1e-4, 1e-3, 1e-2, 1e-1]\n",
    "p0_list = [1e3, 1e4, 1e5, 1e6, 1e7]\n",
    "q0_list = [i - (i * 0.7) for i in p0_list]\n",
    "\n",
    "# u = 1e-4\n",
    "v = 0\n",
    "# p0 = 1e6\n",
    "# q0 = 1e4\n",
    "t = np.arange(100000)\n",
    "\n",
    "p_t_list = []\n",
    "q_t_list = []\n",
    "estag_gens = {}\n",
    "eq_gens = {}\n",
    "gen_loss = {}\n",
    "\n",
    "for u in u_list:\n",
    "    for k, p0 in enumerate(p0_list):\n",
    "        q0 = q0_list[k]\n",
    "        N = p0 + q0\n",
    "        p0 = p0/N\n",
    "        q0 = q0/N\n",
    "\n",
    "        p_t = [p0]\n",
    "        q_t = [q0]\n",
    "\n",
    "        dict_key = f\"u={u} Pop={p0 * N}\"\n",
    "        print(f\" p inicial, {p0}, q inicial, {q0}\")\n",
    "        for i in t:\n",
    "            if i == 0:\n",
    "                continue\n",
    "            p, q = next_generation(p_t[i-1], q_t[i-1], u, v)\n",
    "\n",
    "            if p+q == 1 and not eq_gens.get(dict_key, None):\n",
    "                # print(f\"Gen {i} p: {p} q: {q}\")\n",
    "                eq_gens[dict_key] = i\n",
    "            \n",
    "            if p == p_t[i-1] and not estag_gens.get(dict_key, None):\n",
    "                # print(f\"Gen {i} p: {p} q: {q}\")\n",
    "                estag_gens[dict_key] = i\n",
    "            \n",
    "            p2 = p ** 2\n",
    "            q2 = q ** 2\n",
    "            pq = 2 * p * q\n",
    "            \n",
    "            # Verify genetic lose\n",
    "            if pq == 0 and not gen_loss.get(dict_key, None):\n",
    "                # print(f\"Gen {i} p: {p} q: {q}\")\n",
    "                gen_loss[dict_key] = i\n",
    "            \n",
    "            # print(f\"Gen {i} p: {p} q: {q}\")\n",
    "            p_t.append(p)\n",
    "            q_t.append(q)\n",
    "        \n",
    "        p_t_list.append(p_t)\n",
    "        q_t_list.append(q_t)\n",
    "\n",
    "        print(f\"Final p: {p_t[-1]}, Final q: {q_t[-1]}\")\n",
    "    plot_n_pt(t, p_t_list, p0_list, u, v)\n",
    "\n",
    "    # plot_n_pt_qt(t, p_t_list, q_t_list, p0_list, q0)\n",
    "\n",
    "    # plot_pt(t, p_t, p0)\n",
    "    # plot_pt(t, q_t, q0)\n",
    "\n",
    "    # plot_pt_qt(t, p_t, q_t, p0, q0)\n"
   ]
  },
  {
   "cell_type": "code",
   "execution_count": 16,
   "metadata": {},
   "outputs": [
    {
     "name": "stdout",
     "output_type": "stream",
     "text": [
      "Estagnação\n",
      "Estag Gen u=0.01 Pop=1000.0: 73646\n",
      "Estag Gen u=0.01 Pop=10000.0: 73646\n",
      "Estag Gen u=0.01 Pop=100000.0: 73646\n",
      "Estag Gen u=0.01 Pop=1000000.0: 73646\n",
      "Estag Gen u=0.01 Pop=10000000.0: 73646\n",
      "Estag Gen u=0.1 Pop=1000.0: 7048\n",
      "Estag Gen u=0.1 Pop=10000.0: 7048\n",
      "Estag Gen u=0.1 Pop=100000.0: 7048\n",
      "Estag Gen u=0.1 Pop=1000000.0: 7048\n",
      "Estag Gen u=0.1 Pop=10000000.0: 7048\n",
      "Equilibrio\n",
      "Perda Genética\n"
     ]
    }
   ],
   "source": [
    "print(\"Estagnação\")\n",
    "for key, value in estag_gens.items():\n",
    "    print(f\"Estag Gen {key}: {value}\")\n",
    "\n",
    "print(\"Equilibrio\")\n",
    "for key, value in eq_gens.items():\n",
    "    print(f\"Eq Gen {key}: {value}\")\n",
    "\n",
    "print(\"Perda Genética\")\n",
    "for key, value in gen_loss.items():\n",
    "    print(f\"Gen Loss {key}: {value}\")"
   ]
  }
 ],
 "metadata": {
  "kernelspec": {
   "display_name": "base",
   "language": "python",
   "name": "python3"
  },
  "language_info": {
   "codemirror_mode": {
    "name": "ipython",
    "version": 3
   },
   "file_extension": ".py",
   "mimetype": "text/x-python",
   "name": "python",
   "nbconvert_exporter": "python",
   "pygments_lexer": "ipython3",
   "version": "3.9.19"
  }
 },
 "nbformat": 4,
 "nbformat_minor": 2
}
