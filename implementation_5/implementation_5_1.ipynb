{
 "cells": [
  {
   "cell_type": "markdown",
   "metadata": {},
   "source": [
    "# Implementation with indiviuous dying and new ones borning"
   ]
  },
  {
   "cell_type": "code",
   "execution_count": 1,
   "metadata": {},
   "outputs": [],
   "source": [
    "import sys\n",
    "\n",
    "ROOT_DIR = '..'\n",
    "sys.path.append(ROOT_DIR)"
   ]
  },
  {
   "cell_type": "code",
   "execution_count": 2,
   "metadata": {},
   "outputs": [],
   "source": [
    "import numpy as np\n",
    "import matplotlib.pyplot as plt"
   ]
  },
  {
   "cell_type": "code",
   "execution_count": 3,
   "metadata": {},
   "outputs": [],
   "source": [
    "from utils.evolution_functions import next_finite_drift_generation_same_pop"
   ]
  },
  {
   "cell_type": "code",
   "execution_count": 4,
   "metadata": {},
   "outputs": [],
   "source": [
    "from utils.evolution_functions import generate_random_samples\n",
    "from utils.statistic_utils import run_chi_squared_test\n",
    "\n",
    "\n",
    "def run_exp(p0_list, q0_list, pop_size_list, n_loci, t, u=0, v=0):\n",
    "    ehw_gens = {}\n",
    "    extinctions_gens = {}\n",
    "    for p0, q0 in zip(p0_list, q0_list):\n",
    "        for pop_size in pop_size_list:\n",
    "            p_t_list = []\n",
    "            q_t_list = []\n",
    "            for pop in range(n_loci):\n",
    "                p_t = np.zeros(t.shape)\n",
    "                q_t = np.zeros(t.shape)\n",
    "                p_t[0] = p0\n",
    "                q_t[0] = q0\n",
    "                expected = generate_random_samples(p0, q0, pop_size)\n",
    "                dict_key = f\"N_pop={pop}, Pop_Size={pop_size} Pop={p0:.4f}x{q0:.4f}\"\n",
    "                for i in range(1, t.shape[0]):\n",
    "                    print(f\"P: {p_t[i-1]:.4f} Q: {q_t[i-1]:.4f}\")\n",
    "                    p, q = next_finite_drift_generation_same_pop(p_t[i-1], q_t[i-1], u, v, pop_size)\n",
    "                    p_t[i] = p\n",
    "                    q_t[i] = q\n",
    "\n",
    "                    # Avaliar extinção\n",
    "                    if p == 0 or q == 0 and not extinctions_gens.get(dict_key, None):\n",
    "                        print(f\"Extinction in gen {i}\")\n",
    "                        extinctions_gens[dict_key] = i\n",
    "                    \n",
    "                    # Valor de variância máxima -> Deriva máxima\n",
    "\n",
    "                    observed = generate_random_samples(p, q, pop_size)\n",
    "                    chi_2, is_correlated = run_chi_squared_test(observed, expected, n)\n",
    "                    if not is_correlated and not ehw_gens.get(dict_key, None):\n",
    "                        print(f\"Not in EHW in gen {i}\")\n",
    "                        ehw_gens[dict_key] = i\n",
    "\n",
    "                p_t_list.append(p_t)\n",
    "                q_t_list.append(q_t)\n",
    "\n",
    "                # Avaliar pontos de equilíbrio\n",
    "                # plt.plot(t, p, label='Locus %d'%i)\n",
    "            \n",
    "            fig = plt.figure()\n",
    "            ax = plt.subplot(111)\n",
    "\n",
    "            for i, p in enumerate(p_t_list):\n",
    "                ax.plot(t, p, label=f'p_{i+1}')\n",
    "\n",
    "            # Shrink current axis by 20%\n",
    "            box = ax.get_position()\n",
    "            ax.set_position([box.x0, box.y0, box.width * 0.8, box.height])\n",
    "\n",
    "            # Put a legend to the right of the current axis\n",
    "            ax.legend(loc='center left', bbox_to_anchor=(1, 0.5))\n",
    "            ax.title.set_text(f'Pop size: {pop_size}')\n",
    "\n",
    "    if ehw_gens:\n",
    "        for key, value in ehw_gens.items():\n",
    "            print(f\"End of EHW ({key}) Gen = {value}\")"
   ]
  },
  {
   "cell_type": "markdown",
   "metadata": {},
   "source": [
    "# Avaliar\n",
    "\n",
    "- Atividade\n",
    "    * 30 simulações (30 populações/loci) com N de 5 a 200, p0=0.5\n",
    "    * Calcular o número de fixações e extinções\n",
    "    * Avaliar a relação entre N e esses números\n",
    "    * Avaliar a relação entre N e o número médio de gerações até fixação\n",
    "- EHW"
   ]
  },
  {
   "cell_type": "code",
   "execution_count": 5,
   "metadata": {},
   "outputs": [
    {
     "name": "stdout",
     "output_type": "stream",
     "text": [
      "P: 0.5000 Q: 0.5000\n",
      "Population:  ['AA' 'AA' 'AA' 'aa' 'Aa' 'aa' 'aa' 'Aa' 'Aa' 'Aa' 'AA' 'Aa' 'AA' 'AA'\n",
      " 'Aa' 'aa' 'aa' 'aa' 'Aa' 'Aa' 'aa' 'Aa' 'aa' 'AA' 'AA' 'Aa' 'aa' 'AA'\n",
      " 'aa' 'Aa' 'AA' 'Aa' 'Aa' 'Aa' 'aa' 'Aa' 'AA' 'AA' 'AA' 'AA' 'Aa' 'aa'\n",
      " 'AA' 'AA' 'aa' 'Aa' 'Aa' 'Aa' 'AA' 'Aa' 'Aa' 'Aa' 'aa' 'Aa' 'Aa' 'AA'\n",
      " 'Aa' 'AA' 'Aa' 'Aa' 'aa' 'Aa' 'Aa' 'Aa' 'Aa' 'aa' 'Aa' 'Aa' 'AA' 'aa'\n",
      " 'Aa' 'Aa' 'AA' 'AA' 'Aa' 'aa' 'aa' 'Aa' 'Aa' 'Aa' 'Aa' 'Aa' 'Aa' 'aa'\n",
      " 'Aa' 'aa' 'Aa' 'Aa' 'Aa' 'aa' 'AA' 'Aa' 'AA' 'aa' 'aa' 'AA' 'Aa' 'Aa'\n",
      " 'Aa' 'AA' 'AA' 'AA' 'Aa' 'Aa' 'aa' 'AA' 'Aa' 'aa' 'AA' 'aa' 'Aa' 'Aa'\n",
      " 'AA' 'Aa' 'AA' 'aa' 'Aa' 'Aa' 'Aa' 'aa' 'Aa' 'aa' 'aa' 'Aa' 'AA' 'AA'\n",
      " 'Aa' 'Aa' 'Aa' 'Aa' 'aa' 'Aa' 'aa' 'Aa' 'aa' 'aa' 'AA' 'Aa' 'Aa' 'Aa']\n",
      "Population size:  140\n",
      "Pop size:  140\n",
      "P: 0.5143 Q: 0.4857\n",
      "Population:  ['AA' 'AA' 'AA' 'aa' 'Aa' 'aa' 'aa' 'Aa' 'Aa' 'Aa' 'AA' 'Aa' 'AA' 'AA'\n",
      " 'Aa' 'aa' 'aa' 'aa' 'Aa' 'Aa' 'aa' 'Aa' 'aa' 'AA' 'AA' 'Aa' 'aa' 'AA'\n",
      " 'AA' 'Aa' 'AA' 'Aa' 'Aa' 'Aa' 'aa' 'Aa' 'AA' 'AA' 'AA' 'AA' 'Aa' 'aa'\n",
      " 'AA' 'AA' 'aa' 'Aa' 'Aa' 'Aa' 'AA' 'Aa' 'Aa' 'Aa' 'aa' 'Aa' 'Aa' 'AA'\n",
      " 'Aa' 'AA' 'Aa' 'Aa' 'aa' 'Aa' 'Aa' 'Aa' 'Aa' 'aa' 'Aa' 'Aa' 'AA' 'aa'\n",
      " 'Aa' 'Aa' 'AA' 'AA' 'Aa' 'aa' 'aa' 'Aa' 'Aa' 'Aa' 'Aa' 'Aa' 'Aa' 'aa'\n",
      " 'Aa' 'aa' 'Aa' 'Aa' 'Aa' 'aa' 'AA' 'Aa' 'AA' 'aa' 'aa' 'AA' 'Aa' 'Aa'\n",
      " 'Aa' 'AA' 'AA' 'AA' 'Aa' 'Aa' 'aa' 'AA' 'Aa' 'aa' 'AA' 'aa' 'Aa' 'Aa'\n",
      " 'AA' 'Aa' 'AA' 'aa' 'Aa' 'Aa' 'Aa' 'aa' 'Aa' 'aa' 'aa' 'Aa' 'AA' 'AA'\n",
      " 'Aa' 'Aa' 'Aa' 'Aa' 'aa' 'Aa' 'aa' 'Aa' 'aa' 'AA' 'AA' 'Aa' 'Aa' 'Aa']\n",
      "Population size:  140\n",
      "Pop size:  140\n",
      "P: 0.5214 Q: 0.4786\n",
      "Population:  ['AA' 'AA' 'AA' 'aa' 'Aa' 'aa' 'aa' 'Aa' 'Aa' 'Aa' 'AA' 'Aa' 'AA' 'AA'\n",
      " 'Aa' 'aa' 'aa' 'aa' 'Aa' 'Aa' 'AA' 'Aa' 'aa' 'AA' 'AA' 'Aa' 'aa' 'AA'\n",
      " 'AA' 'Aa' 'AA' 'Aa' 'Aa' 'Aa' 'aa' 'Aa' 'AA' 'AA' 'AA' 'AA' 'Aa' 'aa'\n",
      " 'AA' 'AA' 'aa' 'Aa' 'Aa' 'Aa' 'AA' 'Aa' 'Aa' 'Aa' 'aa' 'Aa' 'Aa' 'AA'\n",
      " 'Aa' 'AA' 'Aa' 'Aa' 'aa' 'Aa' 'Aa' 'Aa' 'Aa' 'aa' 'Aa' 'Aa' 'AA' 'aa'\n",
      " 'Aa' 'Aa' 'AA' 'AA' 'Aa' 'aa' 'aa' 'Aa' 'Aa' 'Aa' 'Aa' 'Aa' 'Aa' 'aa'\n",
      " 'Aa' 'aa' 'Aa' 'Aa' 'Aa' 'aa' 'AA' 'Aa' 'AA' 'aa' 'aa' 'AA' 'Aa' 'Aa'\n",
      " 'Aa' 'AA' 'AA' 'AA' 'Aa' 'Aa' 'aa' 'AA' 'Aa' 'aa' 'AA' 'aa' 'Aa' 'Aa'\n",
      " 'AA' 'Aa' 'AA' 'aa' 'Aa' 'Aa' 'Aa' 'aa' 'Aa' 'aa' 'aa' 'Aa' 'AA' 'AA'\n",
      " 'Aa' 'Aa' 'Aa' 'Aa' 'aa' 'Aa' 'aa' 'Aa' 'aa' 'AA' 'AA' 'Aa' 'Aa' 'Aa']\n",
      "Population size:  140\n",
      "Pop size:  140\n",
      "P: 0.5286 Q: 0.4714\n",
      "Population:  ['AA' 'AA' 'AA' 'aa' 'Aa' 'aa' 'aa' 'Aa' 'Aa' 'Aa' 'AA' 'Aa' 'AA' 'AA'\n",
      " 'Aa' 'aa' 'aa' 'aa' 'Aa' 'Aa' 'AA' 'Aa' 'aa' 'AA' 'AA' 'Aa' 'aa' 'AA'\n",
      " 'AA' 'Aa' 'AA' 'Aa' 'Aa' 'Aa' 'aa' 'Aa' 'AA' 'AA' 'AA' 'AA' 'Aa' 'AA'\n",
      " 'AA' 'AA' 'aa' 'Aa' 'Aa' 'Aa' 'AA' 'Aa' 'Aa' 'Aa' 'aa' 'Aa' 'Aa' 'AA'\n",
      " 'Aa' 'AA' 'Aa' 'Aa' 'aa' 'Aa' 'Aa' 'Aa' 'Aa' 'aa' 'Aa' 'Aa' 'AA' 'aa'\n",
      " 'Aa' 'Aa' 'AA' 'AA' 'Aa' 'aa' 'aa' 'Aa' 'Aa' 'Aa' 'Aa' 'Aa' 'Aa' 'aa'\n",
      " 'Aa' 'aa' 'Aa' 'Aa' 'Aa' 'aa' 'AA' 'Aa' 'AA' 'aa' 'aa' 'AA' 'Aa' 'Aa'\n",
      " 'Aa' 'AA' 'AA' 'AA' 'Aa' 'Aa' 'aa' 'AA' 'Aa' 'aa' 'AA' 'aa' 'Aa' 'Aa'\n",
      " 'AA' 'Aa' 'AA' 'aa' 'Aa' 'Aa' 'Aa' 'aa' 'Aa' 'aa' 'aa' 'Aa' 'AA' 'AA'\n",
      " 'Aa' 'Aa' 'Aa' 'Aa' 'aa' 'Aa' 'aa' 'Aa' 'aa' 'AA' 'AA' 'Aa' 'Aa' 'Aa']\n",
      "Population size:  140\n",
      "Pop size:  140\n",
      "P: 0.5500 Q: 0.4500\n",
      "Population:  ['AA' 'AA' 'AA' 'aa' 'Aa' 'aa' 'Aa' 'Aa' 'Aa' 'Aa' 'AA' 'Aa' 'AA' 'AA'\n",
      " 'Aa' 'aa' 'aa' 'aa' 'Aa' 'Aa' 'AA' 'Aa' 'aa' 'AA' 'AA' 'Aa' 'Aa' 'AA'\n",
      " 'AA' 'aa' 'AA' 'Aa' 'Aa' 'aa' 'Aa' 'Aa' 'AA' 'AA' 'AA' 'AA' 'Aa' 'AA'\n",
      " 'AA' 'AA' 'aa' 'aa' 'Aa' 'Aa' 'AA' 'Aa' 'Aa' 'Aa' 'AA' 'Aa' 'Aa' 'AA'\n",
      " 'Aa' 'AA' 'Aa' 'aa' 'Aa' 'Aa' 'Aa' 'aa' 'Aa' 'Aa' 'AA' 'aa' 'Aa' 'Aa'\n",
      " 'AA' 'AA' 'Aa' 'aa' 'aa' 'Aa' 'Aa' 'Aa' 'Aa' 'Aa' 'Aa' 'aa' 'Aa' 'aa'\n",
      " 'Aa' 'Aa' 'Aa' 'aa' 'AA' 'Aa' 'AA' 'aa' 'aa' 'AA' 'Aa' 'Aa' 'AA' 'AA'\n",
      " 'AA' 'Aa' 'Aa' 'aa' 'AA' 'Aa' 'aa' 'AA' 'aa' 'Aa' 'Aa' 'AA' 'Aa' 'AA'\n",
      " 'aa' 'Aa' 'Aa' 'Aa' 'aa' 'Aa' 'aa' 'AA' 'Aa' 'AA' 'AA' 'Aa' 'Aa' 'Aa'\n",
      " 'Aa' 'Aa' 'Aa' 'aa' 'Aa' 'aa' 'Aa' 'AA' 'AA' 'AA' 'Aa' 'Aa' 'Aa']\n",
      "Population size:  139\n",
      "Pop size:  140\n"
     ]
    },
    {
     "ename": "IndexError",
     "evalue": "index 139 is out of bounds for axis 0 with size 139",
     "output_type": "error",
     "traceback": [
      "\u001b[0;31m---------------------------------------------------------------------------\u001b[0m",
      "\u001b[0;31mIndexError\u001b[0m                                Traceback (most recent call last)",
      "Cell \u001b[0;32mIn[5], line 12\u001b[0m\n\u001b[1;32m      9\u001b[0m q0_list \u001b[38;5;241m=\u001b[39m [\u001b[38;5;241m1\u001b[39m \u001b[38;5;241m-\u001b[39m p0 \u001b[38;5;28;01mfor\u001b[39;00m p0 \u001b[38;5;129;01min\u001b[39;00m p0_list]\n\u001b[1;32m     10\u001b[0m seed \u001b[38;5;241m=\u001b[39m \u001b[38;5;241m2024\u001b[39m\n\u001b[0;32m---> 12\u001b[0m \u001b[43mrun_exp\u001b[49m\u001b[43m(\u001b[49m\u001b[43mp0_list\u001b[49m\u001b[43m,\u001b[49m\u001b[43m \u001b[49m\u001b[43mq0_list\u001b[49m\u001b[43m,\u001b[49m\u001b[43m \u001b[49m\u001b[43mpop_size_list\u001b[49m\u001b[43m,\u001b[49m\u001b[43m \u001b[49m\u001b[43mn_loci\u001b[49m\u001b[43m,\u001b[49m\u001b[43m \u001b[49m\u001b[43mt\u001b[49m\u001b[43m)\u001b[49m\n",
      "Cell \u001b[0;32mIn[4], line 21\u001b[0m, in \u001b[0;36mrun_exp\u001b[0;34m(p0_list, q0_list, pop_size_list, n_loci, t, u, v)\u001b[0m\n\u001b[1;32m     19\u001b[0m \u001b[38;5;28;01mfor\u001b[39;00m i \u001b[38;5;129;01min\u001b[39;00m \u001b[38;5;28mrange\u001b[39m(\u001b[38;5;241m1\u001b[39m, t\u001b[38;5;241m.\u001b[39mshape[\u001b[38;5;241m0\u001b[39m]):\n\u001b[1;32m     20\u001b[0m     \u001b[38;5;28mprint\u001b[39m(\u001b[38;5;124mf\u001b[39m\u001b[38;5;124m\"\u001b[39m\u001b[38;5;124mP: \u001b[39m\u001b[38;5;132;01m{\u001b[39;00mp_t[i\u001b[38;5;241m-\u001b[39m\u001b[38;5;241m1\u001b[39m]\u001b[38;5;132;01m:\u001b[39;00m\u001b[38;5;124m.4f\u001b[39m\u001b[38;5;132;01m}\u001b[39;00m\u001b[38;5;124m Q: \u001b[39m\u001b[38;5;132;01m{\u001b[39;00mq_t[i\u001b[38;5;241m-\u001b[39m\u001b[38;5;241m1\u001b[39m]\u001b[38;5;132;01m:\u001b[39;00m\u001b[38;5;124m.4f\u001b[39m\u001b[38;5;132;01m}\u001b[39;00m\u001b[38;5;124m\"\u001b[39m)\n\u001b[0;32m---> 21\u001b[0m     p, q \u001b[38;5;241m=\u001b[39m \u001b[43mnext_finite_drift_generation_same_pop\u001b[49m\u001b[43m(\u001b[49m\u001b[43mp_t\u001b[49m\u001b[43m[\u001b[49m\u001b[43mi\u001b[49m\u001b[38;5;241;43m-\u001b[39;49m\u001b[38;5;241;43m1\u001b[39;49m\u001b[43m]\u001b[49m\u001b[43m,\u001b[49m\u001b[43m \u001b[49m\u001b[43mq_t\u001b[49m\u001b[43m[\u001b[49m\u001b[43mi\u001b[49m\u001b[38;5;241;43m-\u001b[39;49m\u001b[38;5;241;43m1\u001b[39;49m\u001b[43m]\u001b[49m\u001b[43m,\u001b[49m\u001b[43m \u001b[49m\u001b[43mu\u001b[49m\u001b[43m,\u001b[49m\u001b[43m \u001b[49m\u001b[43mv\u001b[49m\u001b[43m,\u001b[49m\u001b[43m \u001b[49m\u001b[43mpop_size\u001b[49m\u001b[43m)\u001b[49m\n\u001b[1;32m     22\u001b[0m     p_t[i] \u001b[38;5;241m=\u001b[39m p\n\u001b[1;32m     23\u001b[0m     q_t[i] \u001b[38;5;241m=\u001b[39m q\n",
      "File \u001b[0;32m/mnt/Documentos_Pessoais/Drives/Pessoal/Doutorado/Disciplinas/1 Trimestre/Biologia e Evolução/Codes/implementation_5/../utils/evolution_functions.py:128\u001b[0m, in \u001b[0;36mnext_finite_drift_generation_same_pop\u001b[0;34m(p0, q0, u, v, pop_size, seed)\u001b[0m\n\u001b[1;32m    125\u001b[0m     \u001b[38;5;28;01mwhile\u001b[39;00m borning \u001b[38;5;241m==\u001b[39m diying:\n\u001b[1;32m    126\u001b[0m         borning \u001b[38;5;241m=\u001b[39m random\u001b[38;5;241m.\u001b[39mrandint(\u001b[38;5;241m0\u001b[39m, pop_size)\n\u001b[0;32m--> 128\u001b[0m     \u001b[43mpopulation\u001b[49m\u001b[43m[\u001b[49m\u001b[43mdiying\u001b[49m\u001b[43m]\u001b[49m \u001b[38;5;241m=\u001b[39m population[borning]\n\u001b[1;32m    130\u001b[0m \u001b[38;5;66;03m# population = genetic_drift(population)\u001b[39;00m\n\u001b[1;32m    131\u001b[0m \u001b[38;5;66;03m# population = mutate_population(population, u, v)\u001b[39;00m\n\u001b[1;32m    133\u001b[0m q_2 \u001b[38;5;241m=\u001b[39m (np\u001b[38;5;241m.\u001b[39msum(population \u001b[38;5;241m==\u001b[39m \u001b[38;5;124m\"\u001b[39m\u001b[38;5;124maa\u001b[39m\u001b[38;5;124m\"\u001b[39m) \u001b[38;5;241m/\u001b[39m pop_size)\n",
      "\u001b[0;31mIndexError\u001b[0m: index 139 is out of bounds for axis 0 with size 139"
     ]
    }
   ],
   "source": [
    "n = 1 # Degrees of freedom\n",
    "\n",
    "n_loci = 30 # Number of loci, quantity of distinct populations\n",
    "# 140 deu um resultado bem estranhos\n",
    "# pop_size_list = [i for i in range(5, 200, 50)]\n",
    "pop_size_list = [140]\n",
    "t = np.arange(1e2).astype(int) # Number of generations\n",
    "p0_list = [0.5]\n",
    "q0_list = [1 - p0 for p0 in p0_list]\n",
    "seed = 2024\n",
    "\n",
    "run_exp(p0_list, q0_list, pop_size_list, n_loci, t)\n"
   ]
  },
  {
   "cell_type": "markdown",
   "metadata": {},
   "source": [
    "# Responder\n",
    "\n",
    "Sobre a deriva gênica, avaliar:\n",
    "- A influência do tamanho da população (deriva mais forte ou mais fraca...)\n",
    "- Quais são as frequências gênicas para uma população sofrer máxima deriva?\n",
    "- A influência das frequências gênicas (p e q)\n",
    "- Presença de pontos de equilíbrio"
   ]
  },
  {
   "cell_type": "code",
   "execution_count": null,
   "metadata": {},
   "outputs": [],
   "source": []
  }
 ],
 "metadata": {
  "kernelspec": {
   "display_name": "arima",
   "language": "python",
   "name": "python3"
  },
  "language_info": {
   "codemirror_mode": {
    "name": "ipython",
    "version": 3
   },
   "file_extension": ".py",
   "mimetype": "text/x-python",
   "name": "python",
   "nbconvert_exporter": "python",
   "pygments_lexer": "ipython3",
   "version": "3.9.19"
  }
 },
 "nbformat": 4,
 "nbformat_minor": 2
}
