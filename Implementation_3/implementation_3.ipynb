{
 "cells": [
  {
   "cell_type": "code",
   "execution_count": 1,
   "metadata": {},
   "outputs": [],
   "source": [
    "import time\n",
    "\n",
    "import matplotlib.pyplot as plt\n",
    "\n",
    "from utils.generate_phrases import generate_random_phrase, alphabet"
   ]
  },
  {
   "cell_type": "code",
   "execution_count": 2,
   "metadata": {},
   "outputs": [
    {
     "name": "stdout",
     "output_type": "stream",
     "text": [
      "Took 0.0001404285430908203 seconds to generate a phrase with 100 letters using sequential\n",
      "Took 2.4122016429901123 seconds to generate a phrase with 100 letters using parallel\n"
     ]
    }
   ],
   "source": [
    "# Time Analysis\n",
    "phrase_size = int(1e2)\n",
    "\n",
    "t1 = time.time()\n",
    "new_phrase = generate_random_phrase(phrase_size, alphabet, parallel=False)\n",
    "t2 = time.time()\n",
    "\n",
    "print(f\"Took {t2 - t1} seconds to generate a phrase with {phrase_size} letters using sequential\")\n",
    "\n",
    "t1 = time.time()\n",
    "new_phrase = generate_random_phrase(phrase_size, alphabet, parallel=True)\n",
    "t2 = time.time()\n",
    "\n",
    "print(f\"Took {t2 - t1} seconds to generate a phrase with {phrase_size} letters using parallel\")"
   ]
  },
  {
   "cell_type": "code",
   "execution_count": 12,
   "metadata": {},
   "outputs": [],
   "source": [
    "def generate_phrases(phrase:str, log_gen:bool=False):\n",
    "    for letter in phrase:\n",
    "        if letter not in alphabet:\n",
    "            raise ValueError(f\"Letter {letter} not in alphabet\")\n",
    "    \n",
    "    phrase_size = len(phrase)\n",
    "    gen:int = 0\n",
    "    while True:\n",
    "        new_phrase = generate_random_phrase(phrase_size, alphabet)\n",
    "        gen += 1\n",
    "        \n",
    "        if new_phrase == phrase:\n",
    "            break\n",
    "\n",
    "        if gen % 100000 == 0 and log_gen:\n",
    "            print(f'Generation: {gen:,}')\n",
    "    \n",
    "    return gen"
   ]
  },
  {
   "cell_type": "code",
   "execution_count": null,
   "metadata": {},
   "outputs": [],
   "source": [
    "# phrase = 'banan'\n",
    "phrase = 'GAGCCCTCAATCAGGCATACC'\n",
    "\n",
    "phrase_i = ''\n",
    "gens = []\n",
    "\n",
    "t1 = time.time()\n",
    "for letter in phrase:\n",
    "    phrase_i += letter\n",
    "    gen = generate_phrases(phrase_i)\n",
    "\n",
    "    gens.append(gen)\n",
    "    print(f'Found \"{phrase_i}\" in {gen:,} generations')\n",
    "t2 = time.time()\n",
    "\n",
    "print(f\"Took {t2 - t1} seconds to find all the phrases\")\n",
    "\n",
    "plt.plot(gens)\n",
    "plt.plot(gens, '*')\n",
    "plt.xlabel('Phrase Size')\n",
    "plt.ylabel('Generations')\n",
    "plt.show()"
   ]
  },
  {
   "cell_type": "code",
   "execution_count": 20,
   "metadata": {},
   "outputs": [
    {
     "name": "stdout",
     "output_type": "stream",
     "text": [
      "Found \"GAGCCC\" in 15,334 generations and took 0.0701 seconds\n"
     ]
    }
   ],
   "source": [
    "# phrase = 'bana'\n",
    "phrase = 'GAGCCCTCAATCAGGCA'#TACC'\n",
    "\n",
    "t1 = time.time()\n",
    "gen = generate_phrases(phrase)\n",
    "t2 = time.time()\n",
    "\n",
    "print(f'Found \"{phrase}\" in {gen:,} generations and took {round(t2 - t1, 4):,} seconds')"
   ]
  }
 ],
 "metadata": {
  "kernelspec": {
   "display_name": "arima",
   "language": "python",
   "name": "python3"
  },
  "language_info": {
   "codemirror_mode": {
    "name": "ipython",
    "version": 3
   },
   "file_extension": ".py",
   "mimetype": "text/x-python",
   "name": "python",
   "nbconvert_exporter": "python",
   "pygments_lexer": "ipython3",
   "version": "3.9.19"
  }
 },
 "nbformat": 4,
 "nbformat_minor": 2
}
