{
 "cells": [
  {
   "cell_type": "code",
   "execution_count": 2,
   "metadata": {},
   "outputs": [],
   "source": [
    "import time\n",
    "\n",
    "import pandas as pd\n",
    "import numpy as np\n",
    "import matplotlib.pyplot as plt\n",
    "\n",
    "from utils.generate_phrases import generate_random_phrase, alphabet"
   ]
  },
  {
   "cell_type": "code",
   "execution_count": 3,
   "metadata": {},
   "outputs": [
    {
     "name": "stdout",
     "output_type": "stream",
     "text": [
      "Took 0.0001933574676513672 seconds to generate a phrase with 100 letters using sequential\n"
     ]
    }
   ],
   "source": [
    "# Time Analysis\n",
    "phrase_size = int(1e2)\n",
    "\n",
    "t1 = time.time()\n",
    "new_phrase = generate_random_phrase(phrase_size, alphabet)\n",
    "t2 = time.time()\n",
    "\n",
    "print(f\"Took {t2 - t1} seconds to generate a phrase with {phrase_size} letters using sequential\")\n",
    "\n",
    "# t1 = time.time()\n",
    "# new_phrase = generate_random_phrase(phrase_size, alphabet, parallel=True)\n",
    "# t2 = time.time()\n",
    "\n",
    "# print(f\"Took {t2 - t1} seconds to generate a phrase with {phrase_size} letters using parallel\")"
   ]
  },
  {
   "cell_type": "code",
   "execution_count": 4,
   "metadata": {},
   "outputs": [],
   "source": [
    "def generate_phrases(phrase:str, log_gen:bool=False):\n",
    "    for letter in phrase:\n",
    "        if letter not in alphabet:\n",
    "            raise ValueError(f\"Letter {letter} not in alphabet\")\n",
    "    \n",
    "    phrase_size = len(phrase)\n",
    "    gen:int = 0\n",
    "    while True:\n",
    "        new_phrase = generate_random_phrase(phrase_size, alphabet)\n",
    "        gen += 1\n",
    "        \n",
    "        if new_phrase == phrase:\n",
    "            break\n",
    "\n",
    "        if gen % 100000 == 0 and log_gen:\n",
    "            print(f'Generation: {gen:,}')\n",
    "    \n",
    "    return gen"
   ]
  },
  {
   "cell_type": "code",
   "execution_count": 5,
   "metadata": {},
   "outputs": [
    {
     "name": "stdout",
     "output_type": "stream",
     "text": [
      "Found \"G\" in 4 generations\n",
      "Found \"GA\" in 7 generations\n",
      "Found \"GAG\" in 75 generations\n",
      "Found \"GAGC\" in 31 generations\n",
      "Found \"GAGCC\" in 970 generations\n",
      "Found \"GAGCCC\" in 4,933 generations\n",
      "Took 0.023919105529785156 seconds to find all the phrases\n"
     ]
    },
    {
     "data": {
      "image/png": "[encoded data removed]",
      "text/plain": [
       "<Figure size 640x480 with 1 Axes>"
      ]
     },
     "metadata": {},
     "output_type": "display_data"
    }
   ],
   "source": [
    "# phrase = 'banan'\n",
    "phrase = 'GAGCCC'#TCAATCAGGCATACC'\n",
    "\n",
    "phrase_i = ''\n",
    "gens = []\n",
    "\n",
    "t1 = time.time()\n",
    "for letter in phrase:\n",
    "    phrase_i += letter\n",
    "    gen = generate_phrases(phrase_i)\n",
    "\n",
    "    gens.append(gen)\n",
    "    print(f'Found \"{phrase_i}\" in {gen:,} generations')\n",
    "t2 = time.time()\n",
    "\n",
    "print(f\"Took {t2 - t1} seconds to find all the phrases\")\n",
    "\n",
    "plt.plot(gens)\n",
    "plt.plot(gens, '*')\n",
    "plt.xlabel('Phrase Size')\n",
    "plt.ylabel('Generations')\n",
    "plt.show()"
   ]
  },
  {
   "cell_type": "code",
   "execution_count": 6,
   "metadata": {},
   "outputs": [
    {
     "name": "stdout",
     "output_type": "stream",
     "text": [
      "Found \"GAGCCC\" in 624 generations and took 0.0023 seconds\n",
      "Found \"GAGCCC\" in 7,313 generations and took 0.0283 seconds\n",
      "Found \"GAGCCC\" in 965 generations and took 0.0039 seconds\n",
      "Found \"GAGCCC\" in 533 generations and took 0.0026 seconds\n",
      "Found \"GAGCCC\" in 816 generations and took 0.004 seconds\n",
      "Found \"GAGCCC\" in 1,257 generations and took 0.0045 seconds\n",
      "Found \"GAGCCC\" in 2,058 generations and took 0.0075 seconds\n",
      "Found \"GAGCCC\" in 1,567 generations and took 0.0053 seconds\n",
      "Found \"GAGCCC\" in 2,326 generations and took 0.008 seconds\n",
      "Found \"GAGCCC\" in 8,218 generations and took 0.0276 seconds\n",
      "Found \"GAGCCC\" in 2,990 generations and took 0.011 seconds\n",
      "Found \"GAGCCC\" in 807 generations and took 0.0026 seconds\n",
      "Found \"GAGCCC\" in 4,759 generations and took 0.016 seconds\n",
      "Found \"GAGCCC\" in 6,074 generations and took 0.0202 seconds\n",
      "Found \"GAGCCC\" in 649 generations and took 0.0022 seconds\n",
      "Found \"GAGCCC\" in 673 generations and took 0.0024 seconds\n",
      "Found \"GAGCCC\" in 12,532 generations and took 0.042 seconds\n",
      "Found \"GAGCCC\" in 2,850 generations and took 0.01 seconds\n",
      "Found \"GAGCCC\" in 8,418 generations and took 0.0285 seconds\n",
      "Found \"GAGCCC\" in 6,049 generations and took 0.0217 seconds\n",
      "Found \"GAGCCC\" in 12,775 generations and took 0.0464 seconds\n",
      "Found \"GAGCCC\" in 1,249 generations and took 0.005 seconds\n",
      "Found \"GAGCCC\" in 190 generations and took 0.0007 seconds\n",
      "Found \"GAGCCC\" in 2,057 generations and took 0.0071 seconds\n",
      "Found \"GAGCCC\" in 10,474 generations and took 0.0361 seconds\n",
      "Found \"GAGCCC\" in 3,983 generations and took 0.0136 seconds\n",
      "Found \"GAGCCC\" in 397 generations and took 0.0013 seconds\n",
      "Found \"GAGCCC\" in 9,398 generations and took 0.0321 seconds\n",
      "Found \"GAGCCC\" in 782 generations and took 0.0026 seconds\n",
      "Found \"GAGCCC\" in 3,153 generations and took 0.0108 seconds\n",
      "Mean generations: 3,864.5333333333333\n"
     ]
    }
   ],
   "source": [
    "# phrase = 'bana'\n",
    "phrase = 'GAGCCC'#TCAATCAGGCA'#TACC'\n",
    "size_exp = 30\n",
    "\n",
    "gens_list = []\n",
    "for i in range(size_exp):\n",
    "    t1 = time.time()\n",
    "    gen = generate_phrases(phrase)\n",
    "    t2 = time.time()\n",
    "\n",
    "    gens_list.append(gen)\n",
    "    print(f'Found \"{phrase}\" in {gen:,} generations and took {round(t2 - t1, 4):,} seconds')\n",
    "\n",
    "med_gen = np.mean(gens_list)\n",
    "\n",
    "print(f'Mean generations: {med_gen:,}')"
   ]
  },
  {
   "cell_type": "code",
   "execution_count": 7,
   "metadata": {},
   "outputs": [
    {
     "name": "stdout",
     "output_type": "stream",
     "text": [
      "        Generations\n",
      "count     30.000000\n",
      "mean    3864.533333\n",
      "std     3829.073227\n",
      "min      190.000000\n",
      "25%      809.250000\n",
      "50%     2192.000000\n",
      "75%     6067.750000\n",
      "max    12775.000000\n"
     ]
    },
    {
     "data": {
      "image/png": "[encoded data removed]",
      "text/plain": [
       "<Figure size 640x480 with 1 Axes>"
      ]
     },
     "metadata": {},
     "output_type": "display_data"
    }
   ],
   "source": [
    "# Add Boxplot\n",
    "d = {\n",
    "    \"Generations\": gens_list\n",
    "}\n",
    "\n",
    "df = pd.DataFrame(d)\n",
    "\n",
    "print(df.describe())\n",
    "\n",
    "df.boxplot()\n",
    "plt.show()"
   ]
  }
 ],
 "metadata": {
  "kernelspec": {
   "display_name": "arima",
   "language": "python",
   "name": "python3"
  },
  "language_info": {
   "codemirror_mode": {
    "name": "ipython",
    "version": 3
   },
   "file_extension": ".py",
   "mimetype": "text/x-python",
   "name": "python",
   "nbconvert_exporter": "python",
   "pygments_lexer": "ipython3",
   "version": "3.9.19"
  }
 },
 "nbformat": 4,
 "nbformat_minor": 2
}
