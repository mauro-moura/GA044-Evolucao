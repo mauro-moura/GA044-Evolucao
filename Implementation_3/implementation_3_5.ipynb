{
 "cells": [
  {
   "cell_type": "code",
   "execution_count": 1,
   "metadata": {},
   "outputs": [],
   "source": [
    "import time\n",
    "import random\n",
    "\n",
    "import numpy as np\n",
    "import pandas as pd\n",
    "import matplotlib.pyplot as plt\n",
    "\n",
    "from numba import jit, prange"
   ]
  },
  {
   "cell_type": "code",
   "execution_count": 2,
   "metadata": {},
   "outputs": [],
   "source": [
    "from utils.generate_phrases import generate_random_phrase, generate_random_phrase_with_mutation, alphabet"
   ]
  },
  {
   "cell_type": "code",
   "execution_count": 3,
   "metadata": {},
   "outputs": [],
   "source": [
    "def num_char_certo(y_true:str, y_pred:str):\n",
    "    count = 0\n",
    "    for i, letter in enumerate(y_true):\n",
    "        if letter == y_pred[i]:\n",
    "            count += 1\n",
    "    \n",
    "    count = count / len(y_true)\n",
    "    return count"
   ]
  },
  {
   "cell_type": "code",
   "execution_count": 4,
   "metadata": {},
   "outputs": [],
   "source": [
    "def genetic_drift(phrases, seed=2024):\n",
    "    random.seed(seed)\n",
    "    new_phrases = np.empty(len(phrases), dtype=object)\n",
    "    for i in range(len(phrases)):\n",
    "        new_phrases[i] = np.random.choice(phrases)\n",
    "    return new_phrases\n",
    "\n",
    "def crossover(new_phrases:np.array, c:float=0.9):\n",
    "    '''\n",
    "    Recombinação \\n\n",
    "    Pegar m% das frases, selecionar aleatoriamente 2 frases e trocar um pedaço delas dado um crossoverpoint aleatório\n",
    "    '''\n",
    "    n_phrases = len(new_phrases)\n",
    "    phrase_size = len(new_phrases[0])\n",
    "    for i in range(round(c * n_phrases)):\n",
    "        crossover_point = np.random.randint(1, phrase_size - 1)\n",
    "        index_phrase1, index_phrase2 = np.random.randint(0, n_phrases, size=2)\n",
    "\n",
    "        phrase1 = new_phrases[index_phrase1]\n",
    "        phrase2 = new_phrases[index_phrase2]\n",
    "\n",
    "        new_phrase_1 = phrase1[:crossover_point] + phrase2[crossover_point:]\n",
    "        new_phrase_2 = phrase2[:crossover_point] + phrase1[crossover_point:]\n",
    "\n",
    "        new_phrases[index_phrase1] = new_phrase_1\n",
    "        new_phrases[index_phrase2] = new_phrase_2\n",
    "    \n",
    "    return new_phrases\n",
    "\n",
    "def selection(new_phrases, phrase):\n",
    "    return max(new_phrases, key=lambda p: num_char_certo(phrase, p))"
   ]
  },
  {
   "cell_type": "markdown",
   "metadata": {},
   "source": [
    "# A partir da implementação anterior implementar Recombinação\n",
    "* Use frases mais longas, eg, em um alfabeto de 4\n",
    "possibilidades, use strings de 15 caracteres\n",
    "\n",
    "- Implementar “conjugação” de duas vias\n",
    "- Com uma certa frequência, maior do que a da mutação\n",
    "- Selecionar dois pais\n",
    "- Duas strings dão origem a duas strings\n",
    "- Ponto de corte entre frases"
   ]
  },
  {
   "cell_type": "code",
   "execution_count": 5,
   "metadata": {},
   "outputs": [],
   "source": [
    "def plot_graphs_and_describe(full_gens, m_list):\n",
    "    d = {}\n",
    "\n",
    "    for i in range(len(full_gens)):\n",
    "        d[f\"M{m_list[i]}\"] = full_gens[i]\n",
    "\n",
    "    df = pd.DataFrame(d)\n",
    "\n",
    "    print(df.describe())\n",
    "\n",
    "    df.boxplot()\n",
    "    plt.xticks(rotation=45)\n",
    "    plt.ylabel(\"Generations\")\n",
    "    plt.xlabel(\"Mutation rate\")\n",
    "    plt.show()"
   ]
  },
  {
   "cell_type": "code",
   "execution_count": null,
   "metadata": {},
   "outputs": [],
   "source": [
    "class Mokey:\n",
    "    def __init__(self):\n",
    "        self.new_phrases = []\n",
    "        self.info = []\n",
    "\n",
    "    def __migration__(self, new_phrases, m, pop_index):\n",
    "        '''\n",
    "        Take a random phrase from new_phrases in pop_index\n",
    "        Take a random phrase from new_phrases in pop_index + 1\n",
    "        Swap a this phrases\n",
    "        '''\n",
    "        n_phrases = len(new_phrases)\n",
    "        next_pop = pop_index + 1 if pop_index + 1 < len(self.new_phrases) else 0\n",
    "        for i in range(n_phrases):\n",
    "            if np.random.rand() <= m:\n",
    "                index_pop_j = np.random.randint(0, n_phrases)\n",
    "                new_phrases[i] = self.new_phrases[next_pop][index_pop_j]\n",
    "                self.new_phrases[next_pop][index_pop_j] = new_phrases[i]\n",
    "        return new_phrases\n",
    "    \n",
    "    def next_generation(self, initial_phrases, new_phrases, phrase, u=0.1, c=0.9, m=0.2, n_phrases=50, gen=0, pop_index=0):\n",
    "        if phrase in new_phrases:\n",
    "            return initial_phrases, {\"gen\": gen, \"reached\": True}, new_phrases\n",
    "        \n",
    "        new_phrases = crossover(new_phrases, c)\n",
    "        new_phrases = genetic_drift(new_phrases)\n",
    "        if gen > 0:\n",
    "            new_phrases = self.__migration__(new_phrases, m, pop_index)\n",
    "        best_phrase = selection(new_phrases, phrase)\n",
    "        \n",
    "        new_phrases = np.array([generate_random_phrase_with_mutation(best_phrase, alphabet=alphabet, u=u) for _ in range(n_phrases)])\n",
    "        return initial_phrases, {\"gen\": gen, \"reached\": False}, new_phrases\n",
    "    \n",
    "    def generate_phrases(self, phrase, u=[0.1, 0.2], c=[0.8, 0.9], m=[0.2, 0.3], n_phrases=[50, 50], gen_max=1e6, num_pops=1):\n",
    "        for letter in phrase:\n",
    "            if letter not in alphabet:\n",
    "                raise ValueError(f\"Letter {letter} not in alphabet\")\n",
    "        \n",
    "        phrase_size = len(phrase)\n",
    "        initial_phrases = [np.array([generate_random_phrase(phrase_size, alphabet) for _ in range(n_phrases[pop_index])]) for pop_index in range(num_pops)]\n",
    "        self.new_phrases = [initial_phrases[pop_index].copy() for pop_index in range(num_pops)]\n",
    "        self.info = [() for _ in range(num_pops)]\n",
    "        d_info = [{} for _ in range(num_pops)]\n",
    "\n",
    "        gen = 0\n",
    "        for gen in range(int(gen_max)):\n",
    "            for pop_index in range(num_pops):\n",
    "                initial_phrases[pop_index], d_info[pop_index], self.new_phrases[pop_index] = self.next_generation(initial_phrases[pop_index], \n",
    "                                                                                                           self.new_phrases[pop_index], phrase, u[pop_index], c[pop_index],\n",
    "                                                                                                           m[pop_index], n_phrases[pop_index], gen, pop_index=pop_index)\n",
    "                if d_info[pop_index].get(\"reached\") and not self.info[pop_index]:\n",
    "                    self.info[pop_index] = (initial_phrases[pop_index], d_info[pop_index], self.new_phrases[pop_index])\n",
    "        \n",
    "        return self.info\n",
    "    \n",
    "    def run_exp(self, u, c, m_list, phrase, qntd_exp, n_phrases=5, num_pops=2):\n",
    "        print(\"Generating phrases for different crossover rates: \\n\", m)\n",
    "        med_gens = [[] for _ in range(num_pops)]\n",
    "        full_gens = [[] for _ in range(num_pops)]\n",
    "        t1 = time.time()\n",
    "        gens = [[] for _ in range(num_pops)]\n",
    "        t1_epoch = time.time()\n",
    "        for m in m_list:\n",
    "            for i in range(qntd_exp):\n",
    "                d_info = self.generate_phrases(phrase, u, c, m, n_phrases, gen_max=1e7, num_pops=num_pops)\n",
    "\n",
    "                for pop_index in range(num_pops):\n",
    "                    gens[pop_index].append(d_info[pop_index][1].get(\"gen\"))\n",
    "            t2_epoch = time.time()\n",
    "            for pop_index in range(num_pops):\n",
    "                print(f\"Mutation rate: {m:.2f} | Mean generations: {round(np.mean(gens[pop_index]), 2):,} | Time taken: {t2_epoch-t1_epoch:.2f}s\")\n",
    "\n",
    "            for pop_index in range(num_pops):\n",
    "                med_gens[pop_index].append(np.mean(gens[pop_index]))\n",
    "                full_gens[pop_index].append(gens[pop_index])\n",
    "        t2 = time.time()\n",
    "        for pop_index in range(num_pops):\n",
    "            print(\"Mean generations: \", med_gens[pop_index])\n",
    "        print(\"Time taken: \", t2-t1)\n",
    "\n",
    "        for pop_index in range(num_pops):\n",
    "            m_list = [m[pop_index]]\n",
    "            plt.plot(m_list, med_gens[num_pops])\n",
    "            plt.plot(m_list, med_gens[num_pops], '*')\n",
    "            plt.ylabel(\"Mean generations\")\n",
    "            plt.xlabel(\"Crossover rate\")\n",
    "            plt.show()\n",
    "\n",
    "            plot_graphs_and_describe(full_gens[num_pops], m_list)"
   ]
  },
  {
   "cell_type": "code",
   "execution_count": 23,
   "metadata": {},
   "outputs": [
    {
     "name": "stdout",
     "output_type": "stream",
     "text": [
      "Mean generations: 2.1333333333333333\n",
      "            M0.2\n",
      "count  30.000000\n",
      "mean    2.133333\n",
      "std     0.628810\n",
      "min     1.000000\n",
      "25%     2.000000\n",
      "50%     2.000000\n",
      "75%     2.000000\n",
      "max     4.000000\n"
     ]
    },
    {
     "data": {
      "image/png": "[encoded data removed]",
      "text/plain": [
       "<Figure size 640x480 with 1 Axes>"
      ]
     },
     "metadata": {},
     "output_type": "display_data"
    },
    {
     "name": "stdout",
     "output_type": "stream",
     "text": [
      "Mean generations: 1.8666666666666667\n",
      "            M0.1\n",
      "count  30.000000\n",
      "mean    1.866667\n",
      "std     0.507416\n",
      "min     1.000000\n",
      "25%     2.000000\n",
      "50%     2.000000\n",
      "75%     2.000000\n",
      "max     3.000000\n"
     ]
    },
    {
     "data": {
      "image/png": "[encoded data removed]",
      "text/plain": [
       "<Figure size 640x480 with 1 Axes>"
      ]
     },
     "metadata": {},
     "output_type": "display_data"
    }
   ],
   "source": [
    "phrase = 'GAGCCCG'#AACGAGCTTTGCGTCT'\n",
    "n_phrases = [100, 100]\n",
    "u = [0.25, 0.3]\n",
    "c = [0.75, 0.8]\n",
    "m = [0.2, 0.1]\n",
    "n_exp = 30\n",
    "num_pops = 2\n",
    "seed = 2024\n",
    "random.seed(seed)\n",
    "np.random.seed(seed)\n",
    "\n",
    "gens = [[] for _ in range(num_pops)]\n",
    "\n",
    "mokeys = Mokey()\n",
    "for i in range(n_exp):\n",
    "    d_info = mokeys.generate_phrases(phrase, u=u, c=c, m=m, n_phrases=n_phrases, num_pops=num_pops)\n",
    "    for pop_index in range(num_pops):\n",
    "        gens[pop_index].append(d_info[pop_index][1].get(\"gen\"))\n",
    "\n",
    "    # print(f\"Took {gen:,} generations to generate the phrase '{phrase}' from '{initial_phrases}'\")\n",
    "    # print(\"\\n Mutated to '{new_phrases}'\")\n",
    "\n",
    "for pop_index in range(num_pops):\n",
    "    mean_gen = sum(gens[pop_index]) / len(gens[pop_index])\n",
    "    print(f\"Mean generations: {mean_gen:,}\")\n",
    "\n",
    "    plot_graphs_and_describe([gens[pop_index]], [m[pop_index]])"
   ]
  },
  {
   "cell_type": "code",
   "execution_count": null,
   "metadata": {},
   "outputs": [
    {
     "name": "stdout",
     "output_type": "stream",
     "text": [
      "Generating phrases for different crossover rates: \n",
      " [0.2, 0.1]\n"
     ]
    }
   ],
   "source": [
    "phrase = 'GAGCCCGAACGAGCTTTGCGTCT'\n",
    "n_phrases = [100, 100]\n",
    "u = [0.25, 0.3]\n",
    "c = [0.75, 0.8]\n",
    "m = [[0.2, 0.1]]\n",
    "n_exp = 30\n",
    "\n",
    "seed = 2024\n",
    "random.seed(seed)\n",
    "np.random.seed(seed)\n",
    "\n",
    "mokeys = Mokey()\n",
    "mokeys.run_exp(u, c, m, phrase, n_exp, n_phrases=n_phrases)"
   ]
  },
  {
   "cell_type": "code",
   "execution_count": null,
   "metadata": {},
   "outputs": [],
   "source": [
    "phrase = 'GAGCCCGAACGAGCTTTGCGTCT'\n",
    "n_phrases = [100, 100]\n",
    "u = [0.25, 0.3]\n",
    "c = [0.75, 0.8]\n",
    "m_list = [[i, i + np.random.rand() * 0.1] for i in np.arange(0.25, 0.95, 0.1)]\n",
    "n_exp = 30\n",
    "\n",
    "seed = 2024\n",
    "random.seed(seed)\n",
    "np.random.seed(seed)\n",
    "\n",
    "mokeys = Mokey()\n",
    "mokeys.run_exp(u, c, m_list, phrase, n_exp, n_phrases=n_phrases)"
   ]
  }
 ],
 "metadata": {
  "kernelspec": {
   "display_name": "disciplinas",
   "language": "python",
   "name": "python3"
  },
  "language_info": {
   "codemirror_mode": {
    "name": "ipython",
    "version": 3
   },
   "file_extension": ".py",
   "mimetype": "text/x-python",
   "name": "python",
   "nbconvert_exporter": "python",
   "pygments_lexer": "ipython3",
   "version": "3.11.10"
  }
 },
 "nbformat": 4,
 "nbformat_minor": 2
}
