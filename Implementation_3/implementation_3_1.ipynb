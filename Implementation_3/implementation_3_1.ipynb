{
 "cells": [
  {
   "cell_type": "code",
   "execution_count": 1,
   "metadata": {},
   "outputs": [],
   "source": [
    "from utils.generate_phrases import generate_random_phrase, generate_random_phrase_with_mutation, alphabet"
   ]
  },
  {
   "cell_type": "code",
   "execution_count": 2,
   "metadata": {},
   "outputs": [],
   "source": [
    "def generate_phrases(phrase, u=0.1):\n",
    "    for letter in phrase:\n",
    "        if letter not in alphabet:\n",
    "            raise ValueError(f\"Letter {letter} not in alphabet\")\n",
    "    \n",
    "    phrase_size = len(phrase)\n",
    "    gen = 0\n",
    "    initial_phrase = generate_random_phrase(phrase_size, alphabet)\n",
    "    new_phrase = initial_phrase\n",
    "    while True:\n",
    "        if new_phrase == phrase:\n",
    "            break\n",
    "        new_phrase = generate_random_phrase_with_mutation(new_phrase, alphabet=alphabet, u=u)\n",
    "        gen += 1\n",
    "    return initial_phrase, gen\n"
   ]
  },
  {
   "cell_type": "code",
   "execution_count": 3,
   "metadata": {},
   "outputs": [
    {
     "name": "stdout",
     "output_type": "stream",
     "text": [
      "Took 985 generations to generate the phrase 'ba' from 'ul'\n",
      "Took 824 generations to generate the phrase 'ba' from 'we'\n",
      "Took 1,540 generations to generate the phrase 'ba' from 'k '\n",
      "Took 104 generations to generate the phrase 'ba' from 'ql'\n",
      "Took 2,345 generations to generate the phrase 'ba' from 'nj'\n"
     ]
    }
   ],
   "source": [
    "# phrase = 'rosas sao vermelhas'\n",
    "# phrase = 'ba'\n",
    "phrase = 'GAGCCCTCAATCAGGCATACC'\n",
    "u = 0.01\n",
    "\n",
    "gens = []\n",
    "for i in range(5):\n",
    "    initial_phrase, gen = generate_phrases(phrase, u)\n",
    "    gens.append(gen)\n",
    "\n",
    "    print(f\"Took {gen:,} generations to generate the phrase '{phrase}' from '{initial_phrase}'\")"
   ]
  },
  {
   "cell_type": "code",
   "execution_count": null,
   "metadata": {},
   "outputs": [],
   "source": [
    "\n"
   ]
  },
  {
   "cell_type": "code",
   "execution_count": 4,
   "metadata": {},
   "outputs": [
    {
     "data": {
      "text/plain": [
       "'\\n– Variar o valor de u: 0 a 1, incrementos de 0.001(?)\\n– Relação entre u e o número médio de gerações\\nnecessário para se encontrar o alvo (N médio)\\n– Há um valor ótimo para u?\\n'"
      ]
     },
     "execution_count": 4,
     "metadata": {},
     "output_type": "execute_result"
    }
   ],
   "source": [
    "# Reponder\n",
    "\n",
    "\"\"\"\n",
    "- Variar o valor de u: 0 a 1, incrementos de 0.001(?)\n",
    "- Relação entre u e o número médio de gerações\n",
    "necessário para se encontrar o alvo (N médio)\n",
    "- Há um valor ótimo para u?\n",
    "\"\"\""
   ]
  },
  {
   "cell_type": "code",
   "execution_count": 5,
   "metadata": {},
   "outputs": [],
   "source": [
    "# Gráficos\n",
    "\n",
    "# u por MED(N)\n",
    "# u port L por MED(N)"
   ]
  }
 ],
 "metadata": {
  "kernelspec": {
   "display_name": "arima",
   "language": "python",
   "name": "python3"
  },
  "language_info": {
   "codemirror_mode": {
    "name": "ipython",
    "version": 3
   },
   "file_extension": ".py",
   "mimetype": "text/x-python",
   "name": "python",
   "nbconvert_exporter": "python",
   "pygments_lexer": "ipython3",
   "version": "3.9.19"
  }
 },
 "nbformat": 4,
 "nbformat_minor": 2
}
