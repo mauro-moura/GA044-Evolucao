{
 "cells": [
  {
   "cell_type": "code",
   "execution_count": 1,
   "metadata": {},
   "outputs": [],
   "source": [
    "import time\n",
    "import random\n",
    "\n",
    "import numpy as np\n",
    "import pandas as pd\n",
    "import matplotlib.pyplot as plt"
   ]
  },
  {
   "cell_type": "code",
   "execution_count": 2,
   "metadata": {},
   "outputs": [],
   "source": [
    "from utils.generate_phrases import generate_random_phrase, generate_random_phrase_with_mutation, alphabet"
   ]
  },
  {
   "cell_type": "code",
   "execution_count": 3,
   "metadata": {},
   "outputs": [],
   "source": [
    "def num_char_certo(y_true:str, y_pred:str):\n",
    "    count = 0\n",
    "    for i, letter in enumerate(y_true):\n",
    "        if letter == y_pred[i]:\n",
    "            count += 1\n",
    "    \n",
    "    count = count / len(y_true)\n",
    "    return count"
   ]
  },
  {
   "cell_type": "code",
   "execution_count": null,
   "metadata": {},
   "outputs": [],
   "source": [
    "def genetic_drift(phrases, seed=2024):\n",
    "    random.seed(seed)\n",
    "    new_phrases = []\n",
    "    for i in range(len(phrases)):\n",
    "        new_phrases.append(random.choice(phrases))\n",
    "    return new_phrases"
   ]
  },
  {
   "cell_type": "code",
   "execution_count": 5,
   "metadata": {},
   "outputs": [],
   "source": [
    "def generate_phrases(phrase, u=0.1, n_phrases=5, gen_max=1e7):\n",
    "    for letter in phrase:\n",
    "        if letter not in alphabet:\n",
    "            raise ValueError(f\"Letter {letter} not in alphabet\")\n",
    "    \n",
    "    phrase_size = len(phrase)\n",
    "    gen = 0\n",
    "    initial_phrases = [generate_random_phrase(phrase_size, alphabet) for i in range(n_phrases)]\n",
    "    new_phrases = initial_phrases\n",
    "    reached = False\n",
    "    while True:\n",
    "        if phrase in new_phrases:\n",
    "            reached = True\n",
    "        \n",
    "        if phrase in new_phrases or gen >= gen_max:\n",
    "            break\n",
    "        \n",
    "        new_phrases = genetic_drift(new_phrases)\n",
    "        best_phrase = new_phrases[0]\n",
    "        score = num_char_certo(phrase, best_phrase)\n",
    "        for i in range(1, n_phrases):\n",
    "            if num_char_certo(phrase, new_phrases[i]) > score:\n",
    "                best_phrase = new_phrases[i]\n",
    "                score = num_char_certo(phrase, best_phrase)\n",
    "        \n",
    "        new_phrases = [generate_random_phrase_with_mutation(best_phrase, alphabet=alphabet, u=u) for i in range(n_phrases)]\n",
    "        gen += 1\n",
    "    \n",
    "    return initial_phrases, {\"gen\": gen, \"reached\": reached}, new_phrases"
   ]
  },
  {
   "cell_type": "code",
   "execution_count": 6,
   "metadata": {},
   "outputs": [],
   "source": [
    "def plot_graphs_and_describe(full_gens, u_list):\n",
    "    d = {}\n",
    "\n",
    "    for i in range(len(full_gens)):\n",
    "        d[f\"U{u_list[i]}\"] = full_gens[i]\n",
    "\n",
    "    df = pd.DataFrame(d)\n",
    "\n",
    "    print(df.describe())\n",
    "\n",
    "    df.boxplot()\n",
    "    plt.xticks(rotation=45)\n",
    "    plt.show()\n",
    "\n",
    "def run_exp(u_list, phrase, qntd_exp):\n",
    "    print(\"Generating phrases for different mutation rates: \\n\", u_list)\n",
    "    med_gens = []\n",
    "    full_gens = []\n",
    "    t1 = time.time()\n",
    "    for u in u_list:\n",
    "        gens = []\n",
    "        t1_epoch = time.time()\n",
    "        for i in range(qntd_exp):\n",
    "            initial_phrase, gen, new_phrases = generate_phrases(phrase, u, gen_max=1e7)\n",
    "            gens.append(gen.get(\"gen\"))\n",
    "            if not gen.get(\"reached\"):\n",
    "                print(f\"This experiment {i} did not reach the phrase\")\n",
    "        t2_epoch = time.time()\n",
    "        print(f\"Mutation rate: {u:.2f} | Mean generations: {round(np.mean(gens), 2):,} | Time taken: {t2_epoch-t1_epoch:.2f}s\")\n",
    "\n",
    "        med_gens.append(np.mean(gens))\n",
    "        full_gens.append(gens)\n",
    "    t2 = time.time()\n",
    "    print(\"Mean generations: \", med_gens)\n",
    "    print(\"Time taken: \", t2-t1)\n",
    "\n",
    "    plt.plot(u_list, med_gens)\n",
    "    plt.plot(u_list, med_gens, '*')\n",
    "    plt.ylabel(\"Mean generations\")\n",
    "    plt.xlabel(\"Mutation rate\")\n",
    "    plt.show()\n",
    "\n",
    "    plot_graphs_and_describe(full_gens, u_list)"
   ]
  },
  {
   "cell_type": "code",
   "execution_count": 8,
   "metadata": {},
   "outputs": [
    {
     "name": "stdout",
     "output_type": "stream",
     "text": [
      "Took 58 generations to generate the phrase 'GAGCCC' from '['ATCCTG', 'TCTGGC', 'AGGCAA', 'TGACTG', 'TCGTAT', 'TTGCTG', 'TTATTT', 'TATCAA', 'GAATTA', 'ACGCGC']'\n",
      "Took 164 generations to generate the phrase 'GAGCCC' from '['AGAGGG', 'GCTCTG', 'CAACAA', 'TATAGA', 'CACCAT', 'GAGTGT', 'AGCTAA', 'TCATAT', 'TGCTGT', 'CTCAAA']'\n",
      "Took 1,155 generations to generate the phrase 'GAGCCC' from '['CCGTGG', 'AATCCA', 'CGGAGG', 'GGTTGC', 'CACCAC', 'TTTCCC', 'TGTCGA', 'GGCCAG', 'CGAACT', 'AGGAGT']'\n",
      "Took 224 generations to generate the phrase 'GAGCCC' from '['CGAACC', 'CTTTGG', 'TTACCA', 'TGGTGG', 'GAAACT', 'TACTTT', 'GAATGC', 'AAATCT', 'CTGACG', 'TGACCT']'\n",
      "Took 322 generations to generate the phrase 'GAGCCC' from '['GGTCGC', 'TCCAGG', 'TTTCCA', 'CGGTAG', 'TTCTTT', 'AGGGAA', 'TAATGC', 'CTACCT', 'AGTGAT', 'GGCAGC']'\n",
      "Took 280 generations to generate the phrase 'GAGCCC' from '['ACCCTG', 'TTATAT', 'AATGTG', 'GACGCC', 'CTGCGC', 'GTCGAA', 'GCTATT', 'CGTTTA', 'ATACAT', 'GTTGAT']'\n",
      "Took 1 generations to generate the phrase 'GAGCCC' from '['TCAAAT', 'AGCGGT', 'GTCGTG', 'TACCCG', 'TTTTCC', 'TTGCTT', 'GTTGAC', 'TATCAT', 'GCGGCC', 'AAGAAC']'\n",
      "Took 310 generations to generate the phrase 'GAGCCC' from '['GCCTGT', 'TAATGC', 'GGAACT', 'TCCCTT', 'ATGTGC', 'GGGACG', 'TGGGGT', 'GGGTAG', 'TGCAAT', 'ATCGGG']'\n",
      "Took 140 generations to generate the phrase 'GAGCCC' from '['CTATAT', 'ACGATG', 'AAAAAT', 'GCAGAA', 'TTGTAA', 'ACTTCG', 'GGCAGG', 'TTGTCT', 'ATATGA', 'AAATTT']'\n",
      "Took 166 generations to generate the phrase 'GAGCCC' from '['TTCGCC', 'CTATAG', 'TTAGGG', 'GCCGAA', 'GGGCCC', 'TCCGCC', 'CTGTAT', 'ATGGGC', 'GGGGAG', 'ACAAAC']'\n",
      "Took 130 generations to generate the phrase 'GAGCCC' from '['TCAAAA', 'TTCTCA', 'AAATTG', 'TTCTGT', 'GCTTAA', 'GAAAGA', 'CACCGC', 'CAACCT', 'CCTCTA', 'GTTGAC']'\n",
      "Took 203 generations to generate the phrase 'GAGCCC' from '['TAACGG', 'TAATCT', 'TGCGGG', 'CTCTAA', 'TCCGTT', 'AATTAG', 'CTGATA', 'TCCCCA', 'AGCTGT', 'GTATCC']'\n",
      "Took 36 generations to generate the phrase 'GAGCCC' from '['ACCTAG', 'GGACCA', 'TACTAT', 'GCATAA', 'GAGCTT', 'GGTGGC', 'AGTGTA', 'ATTCGT', 'TAGTGA', 'ATAGCT']'\n",
      "Took 9 generations to generate the phrase 'GAGCCC' from '['TTCCAT', 'ACTATG', 'AGCGAG', 'GTACGG', 'AAGGGA', 'CGTTTG', 'ATGAAC', 'TGTTTG', 'GTCTCG', 'ACGCAA']'\n",
      "Took 263 generations to generate the phrase 'GAGCCC' from '['AAGTCC', 'AGCAAG', 'TACTAA', 'ACACTT', 'GGCCCG', 'ATCTTG', 'TAATGT', 'CACGCC', 'CACGAT', 'CATCTG']'\n",
      "Took 704 generations to generate the phrase 'GAGCCC' from '['TACTCT', 'GATGGA', 'GGCTAT', 'AAGACC', 'CCCACG', 'ACAATC', 'ACTCAC', 'GTCAGA', 'CTACAT', 'ACAATT']'\n",
      "Took 205 generations to generate the phrase 'GAGCCC' from '['GATATA', 'TTCTTA', 'TTTATT', 'GTCTCA', 'CGAAAG', 'AGAACG', 'AGGCTT', 'CGGGTA', 'CGAAGG', 'GGTCTG']'\n",
      "Took 82 generations to generate the phrase 'GAGCCC' from '['CTCACC', 'AATAAC', 'GCTCTA', 'CTACGG', 'TTACCT', 'TGGAAC', 'CACGGA', 'GGTTTG', 'GAGCTA', 'CAATAG']'\n",
      "Took 72 generations to generate the phrase 'GAGCCC' from '['GGCGCC', 'CCTCCT', 'CAAAAA', 'AAATTT', 'GTAAAT', 'AGTTGG', 'TCTATG', 'TAGTTA', 'GACGGG', 'CGGACA']'\n",
      "Took 808 generations to generate the phrase 'GAGCCC' from '['TATGTG', 'CCATGC', 'CCGTTT', 'GCCCAC', 'AGCAAC', 'GGCCGT', 'CCGACA', 'ACTGAC', 'TTGTCA', 'CATCCT']'\n",
      "Took 121 generations to generate the phrase 'GAGCCC' from '['CTAACG', 'CGCTGG', 'CTTTTC', 'TCCCGA', 'TATTCT', 'CGAAAT', 'ATACCT', 'GCTGTA', 'GCTGCA', 'CGTGCC']'\n",
      "Took 74 generations to generate the phrase 'GAGCCC' from '['TATATG', 'GTGCCC', 'TACCAC', 'ACCCCC', 'AAGCCT', 'CACTAG', 'CTAACA', 'CGAGAT', 'TTAGCC', 'GAACTT']'\n",
      "Took 57 generations to generate the phrase 'GAGCCC' from '['ACTTAT', 'GGGATG', 'CTTCTG', 'TGAGGA', 'GGTGGC', 'AAAAGT', 'TTGTTT', 'CCATAA', 'CTTACG', 'TTTCGG']'\n",
      "Took 115 generations to generate the phrase 'GAGCCC' from '['ACAAGC', 'TAGTTA', 'GGGCGT', 'GGGATC', 'TCAAAC', 'ACCAAC', 'CACGTC', 'TTTCGA', 'TTTCAA', 'CTTGCT']'\n",
      "Took 695 generations to generate the phrase 'GAGCCC' from '['TTGGGG', 'TGATTA', 'GTTAAC', 'GACCGC', 'CGGCCG', 'CCTAAT', 'ATAGCA', 'AATCAA', 'CCTGCC', 'GGAAGT']'\n",
      "Took 395 generations to generate the phrase 'GAGCCC' from '['CAGCAC', 'GATAAG', 'AATGTA', 'GAAAAG', 'GTACCA', 'AGCAAC', 'GAAAGC', 'GGCTTC', 'GATGTG', 'CGTAGT']'\n",
      "Took 136 generations to generate the phrase 'GAGCCC' from '['CCAGGG', 'AGGGTA', 'TCCCTT', 'CGCTAC', 'TATCAC', 'TCCAAA', 'TTTTAC', 'CACAAA', 'GCTAGA', 'CTTGAC']'\n",
      "Took 363 generations to generate the phrase 'GAGCCC' from '['GCCGCC', 'TTAAGC', 'TAGATC', 'CATCGA', 'AGCCAC', 'TTTGCA', 'CATGTT', 'GCTCGG', 'TACTGT', 'GTAGTT']'\n",
      "Took 62 generations to generate the phrase 'GAGCCC' from '['TTCAGA', 'TACCTA', 'CACCTA', 'CCGCCA', 'CAATGG', 'GCTCAG', 'GGTTGT', 'ACCTAT', 'ACTGAT', 'TACTCT']'\n",
      "Took 500 generations to generate the phrase 'GAGCCC' from '['CTGCGC', 'ACGGTT', 'CCGATA', 'ACTACC', 'CTGTTT', 'ATTACG', 'TTCATG', 'GGGATA', 'GCCATG', 'ACGTAC']'\n",
      "Mean generations: 261.6666666666667\n",
      "              U0.9\n",
      "count    30.000000\n",
      "mean    261.666667\n",
      "std     268.876120\n",
      "min       1.000000\n",
      "25%      76.000000\n",
      "50%     165.000000\n",
      "75%     319.000000\n",
      "max    1155.000000\n"
     ]
    },
    {
     "data": {
      "image/png": "[encoded data removed]",
      "text/plain": [
       "<Figure size 640x480 with 1 Axes>"
      ]
     },
     "metadata": {},
     "output_type": "display_data"
    }
   ],
   "source": [
    "phrase = 'GAGCCC'\n",
    "n_phrases = 10\n",
    "u = 0.9\n",
    "n_exp = 30\n",
    "\n",
    "gens = []\n",
    "for i in range(n_exp):\n",
    "    initial_phrases, gen, new_phrases = generate_phrases(phrase, u=u, n_phrases=n_phrases)\n",
    "    gen = gen.get(\"gen\")\n",
    "    gens.append(gen)\n",
    "\n",
    "    print(f\"Took {gen:,} generations to generate the phrase '{phrase}' from '{initial_phrases}'\")\n",
    "    # print(\"\\n Mutated to '{new_phrases}'\")\n",
    "\n",
    "mean_gen = sum(gens) / len(gens)\n",
    "print(f\"Mean generations: {mean_gen:,}\")\n",
    "\n",
    "plot_graphs_and_describe([gens], [u])"
   ]
  }
 ],
 "metadata": {
  "kernelspec": {
   "display_name": "arima",
   "language": "python",
   "name": "python3"
  },
  "language_info": {
   "codemirror_mode": {
    "name": "ipython",
    "version": 3
   },
   "file_extension": ".py",
   "mimetype": "text/x-python",
   "name": "python",
   "nbconvert_exporter": "python",
   "pygments_lexer": "ipython3",
   "version": "3.9.19"
  }
 },
 "nbformat": 4,
 "nbformat_minor": 2
}
