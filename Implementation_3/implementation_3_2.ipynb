{
 "cells": [
  {
   "cell_type": "code",
   "execution_count": 11,
   "metadata": {},
   "outputs": [],
   "source": [
    "from utils.generate_phrases import generate_random_phrase, generate_random_phrase_with_mutation, alphabet"
   ]
  },
  {
   "cell_type": "code",
   "execution_count": 8,
   "metadata": {},
   "outputs": [],
   "source": [
    "\n",
    "def num_char_certo(y_true:str, y_pred:str):\n",
    "    count = 0\n",
    "    for i, letter in enumerate(y_true):\n",
    "        if letter == y_pred[i]:\n",
    "            count += 1\n",
    "    \n",
    "    count = count / len(y_true)\n",
    "    return count\n"
   ]
  },
  {
   "cell_type": "code",
   "execution_count": 28,
   "metadata": {},
   "outputs": [],
   "source": [
    "def generate_phrases(phrase, u=0.1, n_phrases=5):\n",
    "    for letter in phrase:\n",
    "        if letter not in alphabet:\n",
    "            raise ValueError(f\"Letter {letter} not in alphabet\")\n",
    "    \n",
    "    phrase_size = len(phrase)\n",
    "    gen = 0\n",
    "    initial_phrases = [generate_random_phrase(phrase_size, alphabet) for i in range(n_phrases)]\n",
    "    new_phrases = initial_phrases\n",
    "    while True:\n",
    "        if phrase in new_phrases:\n",
    "            break\n",
    "\n",
    "        best_phrase = new_phrases[0]\n",
    "        score = num_char_certo(phrase, best_phrase)\n",
    "        for i in range(1, n_phrases):\n",
    "            if num_char_certo(phrase, new_phrases[i]) > score:\n",
    "                best_phrase = new_phrases[i]\n",
    "                score = num_char_certo(phrase, best_phrase)\n",
    "        \n",
    "        new_phrases = [generate_random_phrase_with_mutation(best_phrase, alphabet=alphabet, u=u) for i in range(n_phrases)]\n",
    "        gen += 1\n",
    "    \n",
    "    return initial_phrases, gen, new_phrases"
   ]
  },
  {
   "cell_type": "code",
   "execution_count": 31,
   "metadata": {},
   "outputs": [
    {
     "name": "stdout",
     "output_type": "stream",
     "text": [
      "Took 264 generations to generate the phrase 'GAGCCC' from '['ATCTCT', 'TGTTGC', 'GCTCCC', 'GTCGTT', 'GCACGC']'\n",
      "Took 1,643 generations to generate the phrase 'GAGCCC' from '['GAACCT', 'CGTTAG', 'ACCATG', 'TCTGTT', 'GCAGGC']'\n",
      "Took 449 generations to generate the phrase 'GAGCCC' from '['CTTTAT', 'TTCGAC', 'GAATCC', 'GCTGGA', 'ATAACT']'\n",
      "Took 374 generations to generate the phrase 'GAGCCC' from '['TAGGTC', 'AAATCG', 'GGCAAT', 'GGCATG', 'CAGGAA']'\n",
      "Took 794 generations to generate the phrase 'GAGCCC' from '['CGCCCG', 'TAAGGA', 'CTCTTT', 'GACTCA', 'CGGTTG']'\n"
     ]
    }
   ],
   "source": [
    "phrase = 'GAGCCC'\n",
    "n_phrases = 5\n",
    "u = 0.1\n",
    "\n",
    "gens = []\n",
    "for i in range(5):\n",
    "    initial_phrases, gen, new_phrases = generate_phrases(phrase, u=u, n_phrases=n_phrases)\n",
    "    gens.append(gen)\n",
    "\n",
    "    print(f\"Took {gen:,} generations to generate the phrase '{phrase}' from '{initial_phrases}'\")\n",
    "    # print(\"\\n Mutated to '{new_phrases}'\")"
   ]
  }
 ],
 "metadata": {
  "kernelspec": {
   "display_name": "arima",
   "language": "python",
   "name": "python3"
  },
  "language_info": {
   "codemirror_mode": {
    "name": "ipython",
    "version": 3
   },
   "file_extension": ".py",
   "mimetype": "text/x-python",
   "name": "python",
   "nbconvert_exporter": "python",
   "pygments_lexer": "ipython3",
   "version": "3.9.19"
  }
 },
 "nbformat": 4,
 "nbformat_minor": 2
}
